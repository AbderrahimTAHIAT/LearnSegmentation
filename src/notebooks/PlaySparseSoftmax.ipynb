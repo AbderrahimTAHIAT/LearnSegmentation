{
 "cells": [
  {
   "cell_type": "markdown",
   "metadata": {},
   "source": [
    "## Differences between softmax_cross_entropy_with_logits and sparse_softmax_cross_entropy_with_logits\n",
    "\n",
    "#### References\n",
    "* https://stackoverflow.com/questions/37312421/tensorflow-whats-the-difference-between-sparse-softmax-cross-entropy-with-logi\n",
    "* https://github.com/tensorflow/tensorflow/issues/8484\n",
    "* http://learningtensorflow.com/lesson5/\n",
    "* https://www.tensorflow.org/api_docs/python/tf/argmax\n",
    "* https://www.tensorflow.org/api_docs/python/tf/one_hot\n",
    "* https://github.com/JunyoungJang/Python/tree/master/Introduction\n",
    "* https://wiki.tum.de/display/lfdv/Image+Semantic+Segmentation\n",
    "* http://www.cv-foundation.org/openaccess/content_cvpr_2015/papers/Liu_Deep_Convolutional_Neural_2015_CVPR_paper.pdf\n",
    "* https://github.com/andreaazzini/segnet"
   ]
  },
  {
   "cell_type": "code",
   "execution_count": 1,
   "metadata": {
    "collapsed": true
   },
   "outputs": [],
   "source": [
    "import tensorflow as tf\n",
    "from random import randint"
   ]
  },
  {
   "cell_type": "code",
   "execution_count": 2,
   "metadata": {
    "collapsed": false
   },
   "outputs": [
    {
     "name": "stdout",
     "output_type": "stream",
     "text": [
      "Random number: 0\n"
     ]
    }
   ],
   "source": [
    "# Create some test data\n",
    "logit = tf.constant([[2., 1., 3., 5]])\n",
    "\n",
    "# Get a random number between 0 and 3\n",
    "\n",
    "pos = randint(0, 3)\n",
    "print('Random number:',pos)\n",
    "\n",
    "label = tf.constant(pos)\n",
    "label_one_hotted = tf.one_hot(pos, 4)\n",
    "\n",
    "# Get the index of the biggest value\n",
    "label_argmax = tf.argmax(label_one_hotted, axis=0)\n",
    "\n",
    "softmax_simple = tf.nn.softmax_cross_entropy_with_logits(logits=logit, labels=label_one_hotted)\n",
    "#softmax_sparse = tf.nn.sparse_softmax_cross_entropy_with_logits(logits=logit, labels=label_argmax)\n",
    "\n",
    "prob = tf.nn.softmax(logit)\n",
    "log_prob = tf.log(prob)\n",
    "c = - tf.reduce_sum( tf.multiply(label_one_hotted, log_prob) )\n",
    "\n",
    "# Create session interactive ... just to do less typing\n",
    "session = tf.InteractiveSession()\n"
   ]
  },
  {
   "cell_type": "markdown",
   "metadata": {},
   "source": [
    "### Print some stuff"
   ]
  },
  {
   "cell_type": "code",
   "execution_count": 3,
   "metadata": {
    "collapsed": false
   },
   "outputs": [
    {
     "name": "stdout",
     "output_type": "stream",
     "text": [
      "logit: [[ 2.  1.  3.  5.]] Shape: [1 4]\n",
      "label: 0 Shape: []\n",
      "label_one_hotted: [ 1.  0.  0.  0.] Shape: [4]\n",
      "label_argmax: 0 Shape: []\n",
      "softmax_simple: [ 3.18518257]\n",
      "c: 3.18518\n"
     ]
    }
   ],
   "source": [
    "print('logit:', logit.eval(), 'Shape:', tf.shape(logit).eval())\n",
    "print('label:', label.eval(), 'Shape:', tf.shape(label).eval())\n",
    "print('label_one_hotted:', label_one_hotted.eval(), 'Shape:', tf.shape(label_one_hotted).eval())\n",
    "print('label_argmax:', label_argmax.eval(), 'Shape:', tf.shape(label_argmax).eval())\n",
    "print ('softmax_simple:',softmax_simple.eval())\n",
    "#print ('softmax_sparse:',softmax_sparse.eval())\n",
    "print ('c:',c.eval())"
   ]
  },
  {
   "cell_type": "markdown",
   "metadata": {},
   "source": [
    "### Close session"
   ]
  },
  {
   "cell_type": "code",
   "execution_count": 4,
   "metadata": {
    "collapsed": true
   },
   "outputs": [],
   "source": [
    "session.close()"
   ]
  },
  {
   "cell_type": "markdown",
   "metadata": {},
   "source": [
    "### Another test"
   ]
  },
  {
   "cell_type": "code",
   "execution_count": 5,
   "metadata": {
    "collapsed": false
   },
   "outputs": [
    {
     "name": "stdout",
     "output_type": "stream",
     "text": [
      "logit: [[ 2.  1.]] Shape: [1 2]\n",
      "label_one_hotted: [[ 1.  0.]] Shape: [1 2]\n",
      "label_argmax: [0] Shape: [1]\n",
      "softmax_simple: [ 0.31326166]\n",
      "softmax_sparse: [ 0.31326166]\n",
      "0.313262\n"
     ]
    }
   ],
   "source": [
    "logit = tf.constant([[2., 1.]])\n",
    "label_one_hotted = tf.constant([[1., 0.]])\n",
    "label_argmax = tf.argmax(label_one_hotted, 1)\n",
    "\n",
    "softmax_simple = tf.nn.softmax_cross_entropy_with_logits(logits=logit, labels=label_one_hotted)\n",
    "softmax_sparse = tf.nn.sparse_softmax_cross_entropy_with_logits(logits=logit, labels=label_argmax)\n",
    "\n",
    "prob = tf.nn.softmax(logit)\n",
    "log_prob = tf.log(prob)\n",
    "c = - tf.reduce_sum( tf.multiply(label_one_hotted, log_prob) )\n",
    "\n",
    "with tf.Session() as sess:\n",
    "    print('logit:',sess.run(logit), 'Shape:',sess.run(tf.shape(logit)))\n",
    "    print('label_one_hotted:',sess.run(label_one_hotted), 'Shape:',sess.run(tf.shape(label_one_hotted)))\n",
    "    print('label_argmax:',sess.run(label_argmax), 'Shape:',sess.run(tf.shape(label_argmax)))\n",
    "    print('softmax_simple:',sess.run(softmax_simple))\n",
    "    print('softmax_sparse:',sess.run(softmax_sparse))\n",
    "    print(sess.run(c))\n"
   ]
  }
 ],
 "metadata": {
  "kernelspec": {
   "display_name": "Python 3",
   "language": "python",
   "name": "python3"
  },
  "language_info": {
   "codemirror_mode": {
    "name": "ipython",
    "version": 3
   },
   "file_extension": ".py",
   "mimetype": "text/x-python",
   "name": "python",
   "nbconvert_exporter": "python",
   "pygments_lexer": "ipython3",
   "version": "3.6.0"
  }
 },
 "nbformat": 4,
 "nbformat_minor": 2
}
